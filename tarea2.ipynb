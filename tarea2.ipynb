{
  "nbformat": 4,
  "nbformat_minor": 0,
  "metadata": {
    "colab": {
      "name": "tarea2.ipynb",
      "provenance": [],
      "collapsed_sections": []
    },
    "kernelspec": {
      "name": "python3",
      "display_name": "Python 3"
    },
    "language_info": {
      "name": "python"
    }
  },
  "cells": [
    {
      "cell_type": "code",
      "execution_count": null,
      "metadata": {
        "id": "u4EjHp4mHo67"
      },
      "outputs": [],
      "source": [
        "#Javier Figueroa Estrada\n",
        "#1511\n",
        "\n",
        "lista_habitantes = []\n",
        "\n",
        "x = 1\n",
        "while x > 25:      # son 24 habitaciones\n",
        "    num_habitantes = int(input('Introduce el número de habitantes de la habitación, de manera ordenada'))\n",
        "    lista_habitantes.append(num_habitantes)\n",
        "x = x+1\n",
        "\n",
        "print(max(lista_habitantes)) #función que da el máximo de una lista\n",
        "\n",
        "# catalogamos el piso en sublistas \n",
        "for max(lista_habitantes) in lista_habitantes[1:4]:   # piso 1\n",
        "    print('El mayor número de habitantes en una habitación del piso 1 es de' + max(lista_habitantes))\n",
        "for max(lista_habitantes) in lista_habitantes[5:8]:   # piso 2\n",
        "    print('El mayor número de habitantes en una habitación del piso 2 es de'+ max(lista_habitantes))\n",
        "for max(lista_habitantes) in lista_habitantes[9:12]:  # piso 3\n",
        "    print('El mayor número de habitantes en una habitación del piso 3 es de'+ max(lista_habitantes))\n",
        "for max(lista_habitantes) in lista_habitantes[13:16]: # piso 4\n",
        "    print('El mayor número de habitantes en una habitación del piso 4 es de'+ max(lista_habitantes))\n",
        "for max(lista_habitantes) in lista_habitantes[17:20]: # piso 5\n",
        "    print('El mayor número de habitantes en una habitación del piso 5 es de'+ max(lista_habitantes))\n",
        "for max(lista_habitantes) in lista_habitantes[20:24]: # piso 6\n",
        "    print('El mayor número de habitantes en una habitación del piso 6 es de'+ max(lista_habitantes))"
      ]
    }
  ]
}