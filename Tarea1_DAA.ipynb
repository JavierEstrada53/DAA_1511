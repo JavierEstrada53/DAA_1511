{
  "nbformat": 4,
  "nbformat_minor": 0,
  "metadata": {
    "colab": {
      "name": "Tarea1_DAA.ipynb",
      "provenance": [],
      "collapsed_sections": []
    },
    "kernelspec": {
      "name": "python3",
      "display_name": "Python 3"
    },
    "language_info": {
      "name": "python"
    }
  },
  "cells": [
    {
      "cell_type": "code",
      "source": [
        "# Javier Figueroa Estrada\n",
        "# 1511\n",
        "\n",
        "class arbol:\n",
        "    def __init__( self , value , superior = None , medio = None , bajo = None ):\n",
        "        self.data = value\n",
        "        self.superior = superior\n",
        "        self.medio = medio\n",
        "        self.bajo = bajo\n",
        "\n",
        "Arbol_1= arbol(\n",
        "    20,\n",
        "    arbol(23,\n",
        "        None,\n",
        "        arbol(57,None,None,None),\n",
        "        None),\n",
        "    arbol(19,\n",
        "        None,\n",
        "        None,\n",
        "        arbol(67,\n",
        "            None,\n",
        "            arbol(99,None,None,None),\n",
        "        None )),\n",
        "    None\n",
        ")\n",
        "\n",
        "print(Arbol_1.medio.bajo.medio.data)\n",
        "#imprime el 99\n",
        "print(Arbol_1.superior.medio.data)\n",
        "#imprime el 57\n",
        "\n",
        "\n",
        "class arbolito:\n",
        "    def __init__(self):\n",
        "        self.__root = None\n",
        "\n",
        "    def busqueda(self,value,nodo=None):\n",
        "        if self.__root is None:\n",
        "            print('Arbol vacio')\n",
        "            return None\n",
        "        else:\n",
        "            return self.__busqueda__(value,self.__root)\n",
        "\n",
        "    def __busqueda__(self,value,nodo):\n",
        "        if nodo.data == value:\n",
        "            print(\"Encontrado \",nodo.data)\n",
        "            return nodo\n",
        "        #si el valor dado es menor al dato del nodo\n",
        "        # es medio o bajo\n",
        "        elif value < nodo.data and nodo.superior != None:\n",
        "            return self.__busqueda__(value,nodo.bajo)\n",
        "        #si el valor dado es mayor al dato del nodo\n",
        "        # es superior\n",
        "        elif value > nodo.data and nodo.superior != None:\n",
        "            return self.__busqueda__(value,nodo.medio)\n",
        "        else:\n",
        "            return self.__search( nodo.superior , value  )  \n",
        "\n",
        "Arbol_1 = arbolito()\n",
        "print(Arbol_1.busqueda(99))\n",
        "print(Arbol_1.busqueda(57))\n"
      ],
      "metadata": {
        "id": "yZo6kAIDh_O2"
      },
      "execution_count": null,
      "outputs": []
    }
  ]
}